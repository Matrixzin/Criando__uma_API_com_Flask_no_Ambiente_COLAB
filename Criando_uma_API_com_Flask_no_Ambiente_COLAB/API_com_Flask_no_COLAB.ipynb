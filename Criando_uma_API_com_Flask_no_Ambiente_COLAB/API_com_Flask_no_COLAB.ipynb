{
  "nbformat": 4,
  "nbformat_minor": 0,
  "metadata": {
    "colab": {
      "provenance": [],
      "authorship_tag": "ABX9TyM/sMgweyBKc8UvXNMtCvtf"
    },
    "kernelspec": {
      "name": "python3",
      "display_name": "Python 3"
    },
    "language_info": {
      "name": "python"
    }
  },
  "cells": [
    {
      "cell_type": "markdown",
      "source": [
        "# Instalação do flask\n",
        "# Instalação do ngrok"
      ],
      "metadata": {
        "id": "llJ04KaAw0e7"
      }
    },
    {
      "cell_type": "code",
      "execution_count": 4,
      "metadata": {
        "colab": {
          "base_uri": "https://localhost:8080/"
        },
        "id": "GYcitgtLv8xL",
        "outputId": "568ef2de-d950-47cd-f422-4e019e626f1f"
      },
      "outputs": [
        {
          "output_type": "stream",
          "name": "stdout",
          "text": [
            "Requirement already satisfied: flask in /usr/local/lib/python3.10/dist-packages (2.2.5)\n",
            "Requirement already satisfied: Werkzeug>=2.2.2 in /usr/local/lib/python3.10/dist-packages (from flask) (2.3.6)\n",
            "Requirement already satisfied: Jinja2>=3.0 in /usr/local/lib/python3.10/dist-packages (from flask) (3.1.2)\n",
            "Requirement already satisfied: itsdangerous>=2.0 in /usr/local/lib/python3.10/dist-packages (from flask) (2.1.2)\n",
            "Requirement already satisfied: click>=8.0 in /usr/local/lib/python3.10/dist-packages (from flask) (8.1.6)\n",
            "Requirement already satisfied: MarkupSafe>=2.0 in /usr/local/lib/python3.10/dist-packages (from Jinja2>=3.0->flask) (2.1.3)\n"
          ]
        }
      ],
      "source": [
        "!pip install flask"
      ]
    },
    {
      "cell_type": "code",
      "source": [
        "!pip install pyngrok\n",
        "from pyngrok import ngrok"
      ],
      "metadata": {
        "colab": {
          "base_uri": "https://localhost:8080/"
        },
        "id": "AmgNjfxuy28I",
        "outputId": "be72e47f-2706-4365-ae36-7dd287a71ae1"
      },
      "execution_count": 5,
      "outputs": [
        {
          "output_type": "stream",
          "name": "stdout",
          "text": [
            "Requirement already satisfied: pyngrok in /usr/local/lib/python3.10/dist-packages (6.0.0)\n",
            "Requirement already satisfied: PyYAML in /usr/local/lib/python3.10/dist-packages (from pyngrok) (6.0.1)\n"
          ]
        }
      ]
    },
    {
      "cell_type": "markdown",
      "source": [
        "# Criação do Aplicativo Flask"
      ],
      "metadata": {
        "id": "uNBIK1nQxA6Y"
      }
    },
    {
      "cell_type": "code",
      "source": [
        "from flask import Flask, jsonify\n",
        "\n",
        "app = Flask(__name__)"
      ],
      "metadata": {
        "id": "8gmfZDlGwaDh"
      },
      "execution_count": 6,
      "outputs": []
    },
    {
      "cell_type": "markdown",
      "source": [
        "# Criação da planilha em formato JSON"
      ],
      "metadata": {
        "id": "COyUUUmNxF2Q"
      }
    },
    {
      "cell_type": "code",
      "source": [
        "planilha = {\n",
        "    \"Numero\": 1, \"Nome\": \"Jean\", \"Idade\": 32, \"Cidade\": \"São Vicente\", \"Estado\": \"SP\",\n",
        "    \"Numero\": 2, \"Nome\": \"Renan\", \"Idade\": 28, \"Cidade\": \"São Vicente\", \"Estado\": \"SP\",\n",
        "    \"Numero\": 3, \"Nome\": \"Bob\", \"Idade\": 27, \"Cidade\": \"São Vicente\", \"Estado\": \"SP\",\n",
        "    \"Numero\": 4, \"Nome\": \"Ninja\", \"Idade\": 29, \"Cidade\": \"São Vicente\", \"Estado\": \"SP\"\n",
        "\n",
        "}"
      ],
      "metadata": {
        "id": "16h-zxGvxOIn"
      },
      "execution_count": 7,
      "outputs": []
    },
    {
      "cell_type": "code",
      "source": [
        "@app.route('/index', methods=['GET'])\n",
        "def index():\n",
        "  return jsonify(planilha)\n",
        "\n",
        "if __name__ == '__main__':\n",
        "  app.run()"
      ],
      "metadata": {
        "colab": {
          "base_uri": "https://localhost:8080/"
        },
        "id": "WbuKWjLuyMSF",
        "outputId": "02c1cf77-3028-437f-c73c-41b054da71f9"
      },
      "execution_count": null,
      "outputs": [
        {
          "output_type": "stream",
          "name": "stdout",
          "text": [
            " * Serving Flask app '__main__'\n",
            " * Debug mode: off\n"
          ]
        },
        {
          "output_type": "stream",
          "name": "stderr",
          "text": [
            "INFO:werkzeug:\u001b[31m\u001b[1mWARNING: This is a development server. Do not use it in a production deployment. Use a production WSGI server instead.\u001b[0m\n",
            " * Running on http://127.0.0.1:5000\n",
            "INFO:werkzeug:\u001b[33mPress CTRL+C to quit\u001b[0m\n"
          ]
        }
      ]
    },
    {
      "cell_type": "markdown",
      "source": [
        "# Conectar aplicativo Flask ao ngrok"
      ],
      "metadata": {
        "id": "HJJC4Dw3zLIw"
      }
    },
    {
      "cell_type": "code",
      "source": [
        "public_url = ngrok.connect(port='5000')\n",
        "print('Public URL:', public_url)"
      ],
      "metadata": {
        "id": "m4wcixskzPhh"
      },
      "execution_count": null,
      "outputs": []
    }
  ]
}